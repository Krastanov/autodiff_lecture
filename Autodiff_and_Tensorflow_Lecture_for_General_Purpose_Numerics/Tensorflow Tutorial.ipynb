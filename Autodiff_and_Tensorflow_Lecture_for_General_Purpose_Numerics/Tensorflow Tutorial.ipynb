{
 "cells": [
  {
   "cell_type": "markdown",
   "metadata": {
    "slideshow": {
     "slide_type": "slide"
    }
   },
   "source": [
    "# A primer on Tensorflow\n",
    "\n",
    "## As a general-purpose linear algebra compiler an and autodifferentiation toolkit\n",
    "\n",
    "### Stefan Krastanov"
   ]
  },
  {
   "cell_type": "code",
   "execution_count": null,
   "metadata": {
    "slideshow": {
     "slide_type": "skip"
    }
   },
   "outputs": [],
   "source": [
    "import numpy as np\n",
    "import tensorflow as tf\n",
    "import scipy\n",
    "import scipy.linalg\n",
    "import scipy.optimize"
   ]
  },
  {
   "cell_type": "markdown",
   "metadata": {
    "slideshow": {
     "slide_type": "slide"
    }
   },
   "source": [
    "# Tensors, i.e. n-dim arrays"
   ]
  },
  {
   "cell_type": "code",
   "execution_count": null,
   "metadata": {
    "slideshow": {
     "slide_type": "fragment"
    }
   },
   "outputs": [],
   "source": [
    "array = np.random.rand(3,3,3)\n",
    "array"
   ]
  },
  {
   "cell_type": "code",
   "execution_count": null,
   "metadata": {
    "slideshow": {
     "slide_type": "fragment"
    }
   },
   "outputs": [],
   "source": [
    "tf.convert_to_tensor(array)"
   ]
  },
  {
   "cell_type": "markdown",
   "metadata": {
    "slideshow": {
     "slide_type": "slide"
    }
   },
   "source": [
    "# Our cost function in numpy and in tensorflow"
   ]
  },
  {
   "cell_type": "code",
   "execution_count": null,
   "metadata": {
    "slideshow": {
     "slide_type": "fragment"
    }
   },
   "outputs": [],
   "source": [
    "sigmaz_np = np.array([[1.,0.],[0.,-1.]])\n",
    "sigmax_np = np.array([[0.,1.],[1., 0.]])\n",
    "def h_np(p):\n",
    "    return sigmaz_np + p*sigmax_np\n",
    "\n",
    "def cost_np(p_array, v_in):\n",
    "    v_out = v_in\n",
    "    for p in p_array:\n",
    "        v_out = scipy.linalg.expm(-1j*h_np(p)).dot(v_out)\n",
    "    return -np.abs(v_out[0])"
   ]
  },
  {
   "cell_type": "code",
   "execution_count": null,
   "metadata": {
    "slideshow": {
     "slide_type": "fragment"
    }
   },
   "outputs": [],
   "source": [
    "sigmaz_tf = tf.constant(sigmaz_np, dtype=tf.dtypes.complex128)\n",
    "sigmax_tf = tf.constant(sigmax_np, dtype=tf.dtypes.complex128)\n",
    "def h_tf(p):\n",
    "    return sigmaz_tf + tf.cast(p,tf.dtypes.complex128)*sigmax_tf\n",
    "\n",
    "def cost_tf(p_array, v_in):\n",
    "    v_out = v_in\n",
    "    for p in p_array:\n",
    "        v_out = tf.linalg.matvec(tf.linalg.expm(-1j*h_tf(p)), v_out)\n",
    "    return -tf.abs(v_out[0])"
   ]
  },
  {
   "cell_type": "code",
   "execution_count": null,
   "metadata": {
    "slideshow": {
     "slide_type": "slide"
    }
   },
   "outputs": [],
   "source": [
    "p_np = np.random.rand(10)\n",
    "v_in_np = np.array([1,0])\n",
    "\n",
    "p_tf = tf.constant(p_np)\n",
    "v_in_tf = tf.constant(v_in_np, dtype=tf.dtypes.complex128)"
   ]
  },
  {
   "cell_type": "markdown",
   "metadata": {
    "slideshow": {
     "slide_type": "slide"
    }
   },
   "source": [
    "# Timing them"
   ]
  },
  {
   "cell_type": "code",
   "execution_count": null,
   "metadata": {
    "slideshow": {
     "slide_type": "fragment"
    }
   },
   "outputs": [],
   "source": [
    "%timeit cost_np(p_np, v_in_np)"
   ]
  },
  {
   "cell_type": "code",
   "execution_count": null,
   "metadata": {
    "slideshow": {
     "slide_type": "fragment"
    }
   },
   "outputs": [],
   "source": [
    "%timeit cost_tf(p_tf, v_in_tf)"
   ]
  },
  {
   "cell_type": "markdown",
   "metadata": {
    "slideshow": {
     "slide_type": "slide"
    }
   },
   "source": [
    "# So... Tensorflow is slower, function names are frequently different, support for complex numbers requires explicit casting... What is the point?"
   ]
  },
  {
   "cell_type": "markdown",
   "metadata": {
    "slideshow": {
     "slide_type": "slide"
    }
   },
   "source": [
    "# Tensorflow is an optimizing compiler"
   ]
  },
  {
   "cell_type": "code",
   "execution_count": null,
   "metadata": {
    "slideshow": {
     "slide_type": "fragment"
    }
   },
   "outputs": [],
   "source": [
    "@tf.function\n",
    "def h_tf(p):\n",
    "    return sigmaz_tf + tf.cast(p,tf.dtypes.complex128)*sigmax_tf\n",
    "\n",
    "@tf.function\n",
    "def cost_tf(p_array, v_in):\n",
    "    v_out = v_in\n",
    "    for p in p_array:\n",
    "        v_out = tf.linalg.matvec(tf.linalg.expm(-1j*h_tf(p)), v_out)\n",
    "    return -tf.abs(v_out[0])"
   ]
  },
  {
   "cell_type": "code",
   "execution_count": null,
   "metadata": {
    "slideshow": {
     "slide_type": "fragment"
    }
   },
   "outputs": [],
   "source": [
    "# first time\n",
    "%time cost_tf(p_tf, v_in_tf)"
   ]
  },
  {
   "cell_type": "code",
   "execution_count": null,
   "metadata": {
    "slideshow": {
     "slide_type": "fragment"
    }
   },
   "outputs": [],
   "source": [
    "# second time\n",
    "%timeit cost_tf(p_tf, v_in_tf)"
   ]
  },
  {
   "cell_type": "markdown",
   "metadata": {
    "slideshow": {
     "slide_type": "slide"
    }
   },
   "source": [
    "# Tensorflow is an autodiff framework"
   ]
  },
  {
   "cell_type": "code",
   "execution_count": null,
   "metadata": {
    "slideshow": {
     "slide_type": "fragment"
    }
   },
   "outputs": [],
   "source": [
    "p_np = np.random.rand(100)\n",
    "p_tf = tf.constant(p_np)\n",
    "variable = tf.Variable(p_tf)"
   ]
  },
  {
   "cell_type": "code",
   "execution_count": null,
   "metadata": {
    "slideshow": {
     "slide_type": "fragment"
    }
   },
   "outputs": [],
   "source": [
    "%%time\n",
    "with tf.GradientTape() as tape:\n",
    "    result = cost_tf(variable, v_in_tf)\n",
    "    \n",
    "tape.gradient(result, variable)"
   ]
  },
  {
   "cell_type": "code",
   "execution_count": null,
   "metadata": {
    "slideshow": {
     "slide_type": "slide"
    }
   },
   "outputs": [],
   "source": [
    "%%time\n",
    "scipy.optimize.approx_fprime(p_np, lambda v: cost_np(v, v_in_np), 0.0001)"
   ]
  },
  {
   "cell_type": "markdown",
   "metadata": {
    "slideshow": {
     "slide_type": "slide"
    }
   },
   "source": [
    "# Tensorflow is a function optimization framework"
   ]
  },
  {
   "cell_type": "code",
   "execution_count": null,
   "metadata": {
    "slideshow": {
     "slide_type": "fragment"
    }
   },
   "outputs": [],
   "source": [
    "p_np = np.random.rand(100)\n",
    "p_tf = tf.constant(p_np)\n",
    "variable = tf.Variable(p_tf)\n",
    "\n",
    "@tf.function\n",
    "def h_tf(p):\n",
    "    return sigmaz_tf + tf.cast(p,tf.dtypes.complex128)*sigmax_tf\n",
    "\n",
    "@tf.function\n",
    "def cost_tf(p_array, v_in):\n",
    "    v_out = v_in\n",
    "    for p in p_array:\n",
    "        v_out = tf.linalg.matvec(tf.linalg.expm(-1j*h_tf(p)), v_out)\n",
    "    return -tf.abs(v_out[0])"
   ]
  },
  {
   "cell_type": "code",
   "execution_count": null,
   "metadata": {
    "slideshow": {
     "slide_type": "slide"
    }
   },
   "outputs": [],
   "source": [
    "optimizer = tf.optimizers.Nadam(learning_rate=0.01)"
   ]
  },
  {
   "cell_type": "code",
   "execution_count": null,
   "metadata": {
    "slideshow": {
     "slide_type": "fragment"
    }
   },
   "outputs": [],
   "source": [
    "cost_tf(variable, v_in_tf)"
   ]
  },
  {
   "cell_type": "code",
   "execution_count": null,
   "metadata": {
    "slideshow": {
     "slide_type": "fragment"
    }
   },
   "outputs": [],
   "source": [
    "with tf.GradientTape() as tape:\n",
    "    result = cost_tf(variable, v_in_tf)\n",
    "gradient = tape.gradient(result, variable)\n",
    "\n",
    "optimizer.apply_gradients([(gradient, variable)])"
   ]
  },
  {
   "cell_type": "code",
   "execution_count": null,
   "metadata": {
    "slideshow": {
     "slide_type": "fragment"
    }
   },
   "outputs": [],
   "source": [
    "cost_tf(variable, v_in_tf)"
   ]
  },
  {
   "cell_type": "markdown",
   "metadata": {
    "slideshow": {
     "slide_type": "slide"
    }
   },
   "source": [
    "But we do not want to write that much code every time... Tensorflow should know to take gradients if an optimizer is in use..."
   ]
  },
  {
   "cell_type": "code",
   "execution_count": null,
   "metadata": {
    "slideshow": {
     "slide_type": "fragment"
    }
   },
   "outputs": [],
   "source": [
    "@tf.function\n",
    "def cost_with_implicit_arguments():\n",
    "    return cost_tf(variable, v_in_tf)"
   ]
  },
  {
   "cell_type": "code",
   "execution_count": null,
   "metadata": {
    "slideshow": {
     "slide_type": "fragment"
    }
   },
   "outputs": [],
   "source": [
    "optimizer.minimize(cost_with_implicit_arguments, [variable])"
   ]
  },
  {
   "cell_type": "code",
   "execution_count": null,
   "metadata": {
    "slideshow": {
     "slide_type": "fragment"
    }
   },
   "outputs": [],
   "source": [
    "cost_tf(variable, v_in_tf)"
   ]
  },
  {
   "cell_type": "code",
   "execution_count": null,
   "metadata": {
    "slideshow": {
     "slide_type": "slide"
    }
   },
   "outputs": [],
   "source": [
    "for i in range(50):\n",
    "    print(\"\\r Step %s\"%i,end='',flush=True)\n",
    "    optimizer.minimize(cost_with_implicit_arguments, [variable])"
   ]
  },
  {
   "cell_type": "code",
   "execution_count": null,
   "metadata": {
    "slideshow": {
     "slide_type": "fragment"
    }
   },
   "outputs": [],
   "source": [
    "cost_tf(variable, v_in_tf)"
   ]
  },
  {
   "cell_type": "markdown",
   "metadata": {
    "slideshow": {
     "slide_type": "slide"
    }
   },
   "source": [
    "# An assortment of nice things and bad things about Tensorflow"
   ]
  },
  {
   "cell_type": "markdown",
   "metadata": {
    "slideshow": {
     "slide_type": "slide"
    }
   },
   "source": [
    "## Matrix chain multiplication (disappointing)"
   ]
  },
  {
   "cell_type": "code",
   "execution_count": null,
   "metadata": {
    "slideshow": {
     "slide_type": "fragment"
    }
   },
   "outputs": [],
   "source": [
    "matrix = tf.constant(np.random.rand(600,600))\n",
    "vector = tf.constant(np.random.rand(600,1))"
   ]
  },
  {
   "cell_type": "code",
   "execution_count": null,
   "metadata": {
    "slideshow": {
     "slide_type": "fragment"
    }
   },
   "outputs": [],
   "source": [
    "def naive():\n",
    "    prod_matrix = matrix\n",
    "    for i in range(10):\n",
    "        prod_matrix = tf.matmul(matrix, prod_matrix)\n",
    "    return tf.reduce_sum(tf.matmul(prod_matrix,vector))"
   ]
  },
  {
   "cell_type": "code",
   "execution_count": null,
   "metadata": {
    "slideshow": {
     "slide_type": "fragment"
    }
   },
   "outputs": [],
   "source": [
    "%time naive()"
   ]
  },
  {
   "cell_type": "code",
   "execution_count": null,
   "metadata": {
    "slideshow": {
     "slide_type": "slide"
    }
   },
   "outputs": [],
   "source": [
    "def smart():\n",
    "    prod_vec = tf.matmul(matrix,vector)\n",
    "    for i in range(10):\n",
    "        prod_vec = tf.matmul(matrix, prod_vec)\n",
    "    return tf.reduce_sum(prod_vec)"
   ]
  },
  {
   "cell_type": "code",
   "execution_count": null,
   "metadata": {
    "slideshow": {
     "slide_type": "fragment"
    }
   },
   "outputs": [],
   "source": [
    "%time smart()"
   ]
  },
  {
   "cell_type": "code",
   "execution_count": null,
   "metadata": {
    "slideshow": {
     "slide_type": "slide"
    }
   },
   "outputs": [],
   "source": [
    "@tf.function\n",
    "def lazy():\n",
    "    prod_matrix = matrix\n",
    "    for i in range(10):\n",
    "        prod_matrix = tf.matmul(matrix, prod_matrix)\n",
    "    return tf.reduce_sum(tf.matmul(prod_matrix,vector))"
   ]
  },
  {
   "cell_type": "code",
   "execution_count": null,
   "metadata": {
    "slideshow": {
     "slide_type": "fragment"
    }
   },
   "outputs": [],
   "source": [
    "%time lazy()"
   ]
  },
  {
   "cell_type": "code",
   "execution_count": null,
   "metadata": {
    "slideshow": {
     "slide_type": "fragment"
    }
   },
   "outputs": [],
   "source": [
    "%time lazy()"
   ]
  },
  {
   "cell_type": "markdown",
   "metadata": {
    "slideshow": {
     "slide_type": "slide"
    }
   },
   "source": [
    "## Einstein summation notation (convenient)"
   ]
  },
  {
   "cell_type": "code",
   "execution_count": null,
   "metadata": {
    "slideshow": {
     "slide_type": "fragment"
    }
   },
   "outputs": [],
   "source": [
    "matrix = tf.constant(np.random.rand(1000,1000))\n",
    "vector = tf.constant(np.random.rand(1000,))"
   ]
  },
  {
   "cell_type": "code",
   "execution_count": null,
   "metadata": {
    "slideshow": {
     "slide_type": "fragment"
    }
   },
   "outputs": [],
   "source": [
    "tf.einsum(\"ij,j->i\", matrix, vector)"
   ]
  },
  {
   "cell_type": "code",
   "execution_count": null,
   "metadata": {
    "slideshow": {
     "slide_type": "fragment"
    }
   },
   "outputs": [],
   "source": [
    "tf.einsum(\"i,ij,jk,k->\", vector, matrix, matrix, vector)"
   ]
  },
  {
   "cell_type": "markdown",
   "metadata": {
    "slideshow": {
     "slide_type": "slide"
    }
   },
   "source": [
    "Quiz time!\n",
    "\n",
    "What does this do:\n",
    "\n",
    "```\n",
    "i,i->\n",
    "ij,j->i\n",
    "ij,i->j\n",
    "i,i->i\n",
    "ii->\n",
    "ij,ij->ij\n",
    "ijk,kl->ijl\n",
    "i,ijk,kl->ijl\n",
    "i->\n",
    "```"
   ]
  },
  {
   "cell_type": "code",
   "execution_count": null,
   "metadata": {
    "slideshow": {
     "slide_type": "skip"
    }
   },
   "outputs": [],
   "source": [
    "# some more tests of matrix chain multiplication performance, not discussed\n",
    "@tf.function\n",
    "def f():\n",
    "    return tf.einsum(\"ij,jk,k->i\", matrix, matrix, vector)\n",
    "%time f()\n",
    "%time f()"
   ]
  },
  {
   "cell_type": "code",
   "execution_count": null,
   "metadata": {
    "slideshow": {
     "slide_type": "skip"
    }
   },
   "outputs": [],
   "source": [
    "# some more tests of matrix chain multiplication performance, not discussed\n",
    "@tf.function\n",
    "def f():\n",
    "    return tf.linalg.matvec( tf.matmul(matrix,matrix), vector )\n",
    "%time f()\n",
    "%time f()"
   ]
  },
  {
   "cell_type": "code",
   "execution_count": null,
   "metadata": {
    "slideshow": {
     "slide_type": "skip"
    }
   },
   "outputs": [],
   "source": [
    "# some more tests of matrix chain multiplication performance, not discussed\n",
    "@tf.function\n",
    "def f():\n",
    "    return tf.linalg.matvec( matrix, tf.linalg.matvec(matrix, vector ) )\n",
    "%time f()\n",
    "%time f()"
   ]
  },
  {
   "cell_type": "markdown",
   "metadata": {
    "slideshow": {
     "slide_type": "slide"
    }
   },
   "source": [
    "## Fast indices and slow indices (everyone has this problem)"
   ]
  },
  {
   "cell_type": "code",
   "execution_count": 111,
   "metadata": {},
   "outputs": [],
   "source": [
    "matrix = tf.constant(np.random.rand(1000,1000))"
   ]
  },
  {
   "cell_type": "code",
   "execution_count": 116,
   "metadata": {},
   "outputs": [
    {
     "name": "stdout",
     "output_type": "stream",
     "text": [
      "67.5 ms ± 1.36 ms per loop (mean ± std. dev. of 7 runs, 10 loops each)\n"
     ]
    }
   ],
   "source": [
    "%timeit tf.einsum(\"ij,jk->ik\", matrix, matrix)"
   ]
  },
  {
   "cell_type": "code",
   "execution_count": 117,
   "metadata": {},
   "outputs": [
    {
     "name": "stdout",
     "output_type": "stream",
     "text": [
      "70.2 ms ± 1.89 ms per loop (mean ± std. dev. of 7 runs, 10 loops each)\n"
     ]
    }
   ],
   "source": [
    "%timeit tf.einsum(\"ij,kj->ik\", matrix, matrix)"
   ]
  },
  {
   "cell_type": "code",
   "execution_count": 118,
   "metadata": {},
   "outputs": [
    {
     "name": "stdout",
     "output_type": "stream",
     "text": [
      "71.7 ms ± 846 µs per loop (mean ± std. dev. of 7 runs, 10 loops each)\n"
     ]
    }
   ],
   "source": [
    "%timeit tf.einsum(\"ji,kj->ik\", matrix, matrix)"
   ]
  },
  {
   "cell_type": "markdown",
   "metadata": {
    "slideshow": {
     "slide_type": "slide"
    }
   },
   "source": [
    "## Multithreading (amazing)"
   ]
  },
  {
   "cell_type": "code",
   "execution_count": null,
   "metadata": {
    "slideshow": {
     "slide_type": "fragment"
    }
   },
   "outputs": [],
   "source": [
    "matrices = [tf.constant(np.random.normal(size=(200,200))) for i in range(10)]"
   ]
  },
  {
   "cell_type": "code",
   "execution_count": null,
   "metadata": {
    "slideshow": {
     "slide_type": "fragment"
    }
   },
   "outputs": [],
   "source": [
    "def f():\n",
    "    new_matrices = []\n",
    "    for m in matrices:\n",
    "        new_m = m@m\n",
    "        for nesting in range(10):\n",
    "            new_m = new_m / tf.reduce_sum(new_m)\n",
    "            new_m = new_m@new_m\n",
    "        new_matrices.append(new_m)\n",
    "    return sum(new_matrices)"
   ]
  },
  {
   "cell_type": "code",
   "execution_count": null,
   "metadata": {
    "slideshow": {
     "slide_type": "fragment"
    }
   },
   "outputs": [],
   "source": [
    "%time [f() for repetition in range(50)]"
   ]
  },
  {
   "cell_type": "code",
   "execution_count": null,
   "metadata": {
    "slideshow": {
     "slide_type": "slide"
    }
   },
   "outputs": [],
   "source": [
    "@tf.function\n",
    "def f():\n",
    "    new_matrices = []\n",
    "    for m in matrices:\n",
    "        new_m = m@m\n",
    "        for nesting in range(10):\n",
    "            new_m = new_m / tf.reduce_sum(new_m)\n",
    "            new_m = new_m@new_m\n",
    "        new_matrices.append(new_m)\n",
    "    return sum(new_matrices)"
   ]
  },
  {
   "cell_type": "code",
   "execution_count": null,
   "metadata": {
    "slideshow": {
     "slide_type": "fragment"
    }
   },
   "outputs": [],
   "source": [
    "f()\n",
    "%time [f() for repetition in range(50)]"
   ]
  },
  {
   "cell_type": "markdown",
   "metadata": {
    "slideshow": {
     "slide_type": "slide"
    }
   },
   "source": [
    "## Runs on GPUs and TPUs (amazing)\n",
    "\n",
    "With a bit more code it can run on multiple GPUs, but that might require some profiling."
   ]
  },
  {
   "cell_type": "code",
   "execution_count": null,
   "metadata": {
    "slideshow": {
     "slide_type": "fragment"
    }
   },
   "outputs": [],
   "source": [
    "with tf.device(\"GPU:0\"):\n",
    "    ...\n",
    "    ..."
   ]
  },
  {
   "cell_type": "markdown",
   "metadata": {
    "slideshow": {
     "slide_type": "slide"
    }
   },
   "source": [
    "# Plenty of other neat tools, but this is for today\n",
    "\n",
    "# Alternatives to be aware of\n",
    "\n",
    "- Theano - the first, it was lovely, not supported anymore\n",
    "- PyTorch - the first to have \"eager mode\", but Tensorflow now also has that; poor support for complex numbers\n",
    "- Julia - The Flux/Cassette/Zygote/DifferentialEquations libraries have immense potential, but are still somewhat experimental"
   ]
  }
 ],
 "metadata": {
  "@webio": {
   "lastCommId": null,
   "lastKernelId": null
  },
  "celltoolbar": "Slideshow",
  "kernelspec": {
   "display_name": "Python 3",
   "language": "python",
   "name": "python3"
  },
  "language_info": {
   "codemirror_mode": {
    "name": "ipython",
    "version": 3
   },
   "file_extension": ".py",
   "mimetype": "text/x-python",
   "name": "python",
   "nbconvert_exporter": "python",
   "pygments_lexer": "ipython3",
   "version": "3.7.5rc1"
  }
 },
 "nbformat": 4,
 "nbformat_minor": 2
}
